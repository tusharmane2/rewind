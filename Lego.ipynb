{
 "cells": [
  {
   "cell_type": "markdown",
   "id": "6ea49e04",
   "metadata": {},
   "source": [
    "# Lego Analysis"
   ]
  },
  {
   "cell_type": "markdown",
   "id": "8045ba1e",
   "metadata": {},
   "source": [
    "With reference to a [video](https://www.youtube.com/watch?v=BzQDi4D0B_M&list=PLFCB5Dp81iNVmuoGIqcT5oF4K-7kTI5vp&index=22) by [Keith Gally](https://www.youtube.com/@KeithGalli)."
   ]
  },
  {
   "cell_type": "markdown",
   "id": "0facc345",
   "metadata": {},
   "source": [
    "## Problem Statements\n",
    "1. What percentage of licensed sets ever released were Star Wars themed? (As an integer value)\n",
    "2. In which year was Star Wars not the most popular licensed theme? (in terms of number of sets released that year)\n",
    "\n",
    "Null values in column 'num_parts' are acceptable."
   ]
  },
  {
   "cell_type": "markdown",
   "id": "5615534f",
   "metadata": {},
   "source": [
    "## Data"
   ]
  },
  {
   "cell_type": "code",
   "execution_count": 1,
   "id": "8fa13210",
   "metadata": {},
   "outputs": [],
   "source": [
    "import pandas as pd\n",
    "parent_themes = pd.read_csv('https://raw.githubusercontent.com/KeithGalli/lego-analysis/master/datasets/parent_themes.csv')\n",
    "themes = pd.read_csv('https://raw.githubusercontent.com/KeithGalli/lego-analysis/master/datasets/themes.csv')\n",
    "lego_sets = pd.read_csv('https://raw.githubusercontent.com/KeithGalli/lego-analysis/master/datasets/lego_sets.csv')\n",
    "sets = pd.read_csv('https://raw.githubusercontent.com/KeithGalli/lego-analysis/master/datasets/sets.csv')"
   ]
  },
  {
   "cell_type": "markdown",
   "id": "590a1cda",
   "metadata": {},
   "source": [
    "**Lets look a the data sets**"
   ]
  },
  {
   "cell_type": "code",
   "execution_count": 3,
   "id": "c16fc8ff",
   "metadata": {},
   "outputs": [
    {
     "data": {
      "text/html": [
       "<div>\n",
       "<style scoped>\n",
       "    .dataframe tbody tr th:only-of-type {\n",
       "        vertical-align: middle;\n",
       "    }\n",
       "\n",
       "    .dataframe tbody tr th {\n",
       "        vertical-align: top;\n",
       "    }\n",
       "\n",
       "    .dataframe thead th {\n",
       "        text-align: right;\n",
       "    }\n",
       "</style>\n",
       "<table border=\"1\" class=\"dataframe\">\n",
       "  <thead>\n",
       "    <tr style=\"text-align: right;\">\n",
       "      <th></th>\n",
       "      <th>id</th>\n",
       "      <th>name</th>\n",
       "      <th>is_licensed</th>\n",
       "    </tr>\n",
       "  </thead>\n",
       "  <tbody>\n",
       "    <tr>\n",
       "      <th>0</th>\n",
       "      <td>1</td>\n",
       "      <td>Technic</td>\n",
       "      <td>False</td>\n",
       "    </tr>\n",
       "    <tr>\n",
       "      <th>1</th>\n",
       "      <td>22</td>\n",
       "      <td>Creator</td>\n",
       "      <td>False</td>\n",
       "    </tr>\n",
       "  </tbody>\n",
       "</table>\n",
       "</div>"
      ],
      "text/plain": [
       "   id     name  is_licensed\n",
       "0   1  Technic        False\n",
       "1  22  Creator        False"
      ]
     },
     "execution_count": 3,
     "metadata": {},
     "output_type": "execute_result"
    }
   ],
   "source": [
    "parent_themes.head(2)"
   ]
  },
  {
   "cell_type": "code",
   "execution_count": 4,
   "id": "708ef64e",
   "metadata": {},
   "outputs": [
    {
     "data": {
      "text/html": [
       "<div>\n",
       "<style scoped>\n",
       "    .dataframe tbody tr th:only-of-type {\n",
       "        vertical-align: middle;\n",
       "    }\n",
       "\n",
       "    .dataframe tbody tr th {\n",
       "        vertical-align: top;\n",
       "    }\n",
       "\n",
       "    .dataframe thead th {\n",
       "        text-align: right;\n",
       "    }\n",
       "</style>\n",
       "<table border=\"1\" class=\"dataframe\">\n",
       "  <thead>\n",
       "    <tr style=\"text-align: right;\">\n",
       "      <th></th>\n",
       "      <th>id</th>\n",
       "      <th>name</th>\n",
       "      <th>parent_id</th>\n",
       "    </tr>\n",
       "  </thead>\n",
       "  <tbody>\n",
       "    <tr>\n",
       "      <th>0</th>\n",
       "      <td>1</td>\n",
       "      <td>Technic</td>\n",
       "      <td>NaN</td>\n",
       "    </tr>\n",
       "    <tr>\n",
       "      <th>1</th>\n",
       "      <td>2</td>\n",
       "      <td>Arctic Technic</td>\n",
       "      <td>1.0</td>\n",
       "    </tr>\n",
       "  </tbody>\n",
       "</table>\n",
       "</div>"
      ],
      "text/plain": [
       "   id            name  parent_id\n",
       "0   1         Technic        NaN\n",
       "1   2  Arctic Technic        1.0"
      ]
     },
     "execution_count": 4,
     "metadata": {},
     "output_type": "execute_result"
    }
   ],
   "source": [
    "themes.head(2)"
   ]
  },
  {
   "cell_type": "code",
   "execution_count": 5,
   "id": "a3ccd18a",
   "metadata": {},
   "outputs": [
    {
     "data": {
      "text/html": [
       "<div>\n",
       "<style scoped>\n",
       "    .dataframe tbody tr th:only-of-type {\n",
       "        vertical-align: middle;\n",
       "    }\n",
       "\n",
       "    .dataframe tbody tr th {\n",
       "        vertical-align: top;\n",
       "    }\n",
       "\n",
       "    .dataframe thead th {\n",
       "        text-align: right;\n",
       "    }\n",
       "</style>\n",
       "<table border=\"1\" class=\"dataframe\">\n",
       "  <thead>\n",
       "    <tr style=\"text-align: right;\">\n",
       "      <th></th>\n",
       "      <th>set_num</th>\n",
       "      <th>name</th>\n",
       "      <th>year</th>\n",
       "      <th>num_parts</th>\n",
       "      <th>theme_name</th>\n",
       "      <th>parent_theme</th>\n",
       "    </tr>\n",
       "  </thead>\n",
       "  <tbody>\n",
       "    <tr>\n",
       "      <th>0</th>\n",
       "      <td>00-1</td>\n",
       "      <td>Weetabix Castle</td>\n",
       "      <td>1970</td>\n",
       "      <td>471.0</td>\n",
       "      <td>Castle</td>\n",
       "      <td>Legoland</td>\n",
       "    </tr>\n",
       "    <tr>\n",
       "      <th>1</th>\n",
       "      <td>0011-2</td>\n",
       "      <td>Town Mini-Figures</td>\n",
       "      <td>1978</td>\n",
       "      <td>NaN</td>\n",
       "      <td>Supplemental</td>\n",
       "      <td>Town</td>\n",
       "    </tr>\n",
       "  </tbody>\n",
       "</table>\n",
       "</div>"
      ],
      "text/plain": [
       "  set_num               name  year  num_parts    theme_name parent_theme\n",
       "0    00-1    Weetabix Castle  1970      471.0        Castle     Legoland\n",
       "1  0011-2  Town Mini-Figures  1978        NaN  Supplemental         Town"
      ]
     },
     "execution_count": 5,
     "metadata": {},
     "output_type": "execute_result"
    }
   ],
   "source": [
    "lego_sets.head(2)"
   ]
  },
  {
   "cell_type": "code",
   "execution_count": 6,
   "id": "5ae9e7b1",
   "metadata": {},
   "outputs": [
    {
     "data": {
      "text/html": [
       "<div>\n",
       "<style scoped>\n",
       "    .dataframe tbody tr th:only-of-type {\n",
       "        vertical-align: middle;\n",
       "    }\n",
       "\n",
       "    .dataframe tbody tr th {\n",
       "        vertical-align: top;\n",
       "    }\n",
       "\n",
       "    .dataframe thead th {\n",
       "        text-align: right;\n",
       "    }\n",
       "</style>\n",
       "<table border=\"1\" class=\"dataframe\">\n",
       "  <thead>\n",
       "    <tr style=\"text-align: right;\">\n",
       "      <th></th>\n",
       "      <th>set_num</th>\n",
       "      <th>name</th>\n",
       "      <th>year</th>\n",
       "      <th>theme_id</th>\n",
       "      <th>num_parts</th>\n",
       "    </tr>\n",
       "  </thead>\n",
       "  <tbody>\n",
       "    <tr>\n",
       "      <th>0</th>\n",
       "      <td>00-1</td>\n",
       "      <td>Weetabix Castle</td>\n",
       "      <td>1970</td>\n",
       "      <td>414</td>\n",
       "      <td>471</td>\n",
       "    </tr>\n",
       "    <tr>\n",
       "      <th>1</th>\n",
       "      <td>0011-2</td>\n",
       "      <td>Town Mini-Figures</td>\n",
       "      <td>1978</td>\n",
       "      <td>84</td>\n",
       "      <td>12</td>\n",
       "    </tr>\n",
       "  </tbody>\n",
       "</table>\n",
       "</div>"
      ],
      "text/plain": [
       "  set_num               name  year  theme_id  num_parts\n",
       "0    00-1    Weetabix Castle  1970       414        471\n",
       "1  0011-2  Town Mini-Figures  1978        84         12"
      ]
     },
     "execution_count": 6,
     "metadata": {},
     "output_type": "execute_result"
    }
   ],
   "source": [
    "sets.head(2)"
   ]
  },
  {
   "cell_type": "markdown",
   "id": "921f40a5",
   "metadata": {},
   "source": [
    "### Task 1: Get list of licensed parent themes"
   ]
  },
  {
   "cell_type": "code",
   "execution_count": 7,
   "id": "f6cb5edc",
   "metadata": {},
   "outputs": [
    {
     "data": {
      "text/plain": [
       "['Star Wars',\n",
       " 'Harry Potter',\n",
       " 'Pirates of the Caribbean',\n",
       " 'Indiana Jones',\n",
       " 'Cars',\n",
       " 'Ben 10',\n",
       " 'Prince of Persia',\n",
       " 'SpongeBob SquarePants',\n",
       " 'Toy Story',\n",
       " 'Avatar',\n",
       " \"Disney's Mickey Mouse\",\n",
       " 'Super Heroes',\n",
       " 'The Hobbit and Lord of the Rings',\n",
       " 'Teenage Mutant Ninja Turtles',\n",
       " 'The Lone Ranger',\n",
       " 'Minecraft',\n",
       " 'Disney Princess',\n",
       " 'Jurassic World',\n",
       " 'Scooby-Doo',\n",
       " 'Angry Birds',\n",
       " 'Ghostbusters',\n",
       " 'Disney']"
      ]
     },
     "execution_count": 7,
     "metadata": {},
     "output_type": "execute_result"
    }
   ],
   "source": [
    "licensed_list = parent_themes[parent_themes['is_licensed']==True]['name'].to_list()\n",
    "licensed_list"
   ]
  },
  {
   "cell_type": "markdown",
   "id": "853703cd",
   "metadata": {},
   "source": [
    "### Task 2: Merge 'lego_sets' and 'sets'"
   ]
  },
  {
   "cell_type": "code",
   "execution_count": 15,
   "id": "3148a4f6",
   "metadata": {},
   "outputs": [
    {
     "data": {
      "text/html": [
       "<div>\n",
       "<style scoped>\n",
       "    .dataframe tbody tr th:only-of-type {\n",
       "        vertical-align: middle;\n",
       "    }\n",
       "\n",
       "    .dataframe tbody tr th {\n",
       "        vertical-align: top;\n",
       "    }\n",
       "\n",
       "    .dataframe thead th {\n",
       "        text-align: right;\n",
       "    }\n",
       "</style>\n",
       "<table border=\"1\" class=\"dataframe\">\n",
       "  <thead>\n",
       "    <tr style=\"text-align: right;\">\n",
       "      <th></th>\n",
       "      <th>set_num</th>\n",
       "      <th>name_x</th>\n",
       "      <th>year_x</th>\n",
       "      <th>num_parts_x</th>\n",
       "      <th>theme_name</th>\n",
       "      <th>parent_theme</th>\n",
       "      <th>name_y</th>\n",
       "      <th>year_y</th>\n",
       "      <th>theme_id</th>\n",
       "      <th>num_parts_y</th>\n",
       "    </tr>\n",
       "  </thead>\n",
       "  <tbody>\n",
       "    <tr>\n",
       "      <th>0</th>\n",
       "      <td>00-1</td>\n",
       "      <td>Weetabix Castle</td>\n",
       "      <td>1970</td>\n",
       "      <td>471.0</td>\n",
       "      <td>Castle</td>\n",
       "      <td>Legoland</td>\n",
       "      <td>Weetabix Castle</td>\n",
       "      <td>1970</td>\n",
       "      <td>414</td>\n",
       "      <td>471</td>\n",
       "    </tr>\n",
       "    <tr>\n",
       "      <th>1</th>\n",
       "      <td>0011-2</td>\n",
       "      <td>Town Mini-Figures</td>\n",
       "      <td>1978</td>\n",
       "      <td>NaN</td>\n",
       "      <td>Supplemental</td>\n",
       "      <td>Town</td>\n",
       "      <td>Town Mini-Figures</td>\n",
       "      <td>1978</td>\n",
       "      <td>84</td>\n",
       "      <td>12</td>\n",
       "    </tr>\n",
       "  </tbody>\n",
       "</table>\n",
       "</div>"
      ],
      "text/plain": [
       "  set_num             name_x  year_x  num_parts_x    theme_name parent_theme  \\\n",
       "0    00-1    Weetabix Castle    1970        471.0        Castle     Legoland   \n",
       "1  0011-2  Town Mini-Figures    1978          NaN  Supplemental         Town   \n",
       "\n",
       "              name_y  year_y  theme_id  num_parts_y  \n",
       "0    Weetabix Castle    1970       414          471  \n",
       "1  Town Mini-Figures    1978        84           12  "
      ]
     },
     "execution_count": 15,
     "metadata": {},
     "output_type": "execute_result"
    }
   ],
   "source": [
    "lego_merged = pd.merge(lego_sets, sets, left_on='set_num', right_on='set_num')\n",
    "lego_merged.head(2)"
   ]
  },
  {
   "cell_type": "markdown",
   "id": "ac74c7a1",
   "metadata": {},
   "source": [
    "**Remove unnecessary columns and rename some columns**"
   ]
  },
  {
   "cell_type": "code",
   "execution_count": 16,
   "id": "8933ca22",
   "metadata": {},
   "outputs": [
    {
     "data": {
      "text/html": [
       "<div>\n",
       "<style scoped>\n",
       "    .dataframe tbody tr th:only-of-type {\n",
       "        vertical-align: middle;\n",
       "    }\n",
       "\n",
       "    .dataframe tbody tr th {\n",
       "        vertical-align: top;\n",
       "    }\n",
       "\n",
       "    .dataframe thead th {\n",
       "        text-align: right;\n",
       "    }\n",
       "</style>\n",
       "<table border=\"1\" class=\"dataframe\">\n",
       "  <thead>\n",
       "    <tr style=\"text-align: right;\">\n",
       "      <th></th>\n",
       "      <th>set_num</th>\n",
       "      <th>name</th>\n",
       "      <th>year</th>\n",
       "      <th>num_parts</th>\n",
       "      <th>theme_name</th>\n",
       "      <th>parent_theme</th>\n",
       "      <th>theme_id</th>\n",
       "    </tr>\n",
       "  </thead>\n",
       "  <tbody>\n",
       "    <tr>\n",
       "      <th>0</th>\n",
       "      <td>00-1</td>\n",
       "      <td>Weetabix Castle</td>\n",
       "      <td>1970</td>\n",
       "      <td>471.0</td>\n",
       "      <td>Castle</td>\n",
       "      <td>Legoland</td>\n",
       "      <td>414</td>\n",
       "    </tr>\n",
       "    <tr>\n",
       "      <th>1</th>\n",
       "      <td>0011-2</td>\n",
       "      <td>Town Mini-Figures</td>\n",
       "      <td>1978</td>\n",
       "      <td>NaN</td>\n",
       "      <td>Supplemental</td>\n",
       "      <td>Town</td>\n",
       "      <td>84</td>\n",
       "    </tr>\n",
       "  </tbody>\n",
       "</table>\n",
       "</div>"
      ],
      "text/plain": [
       "  set_num               name  year  num_parts    theme_name parent_theme  \\\n",
       "0    00-1    Weetabix Castle  1970      471.0        Castle     Legoland   \n",
       "1  0011-2  Town Mini-Figures  1978        NaN  Supplemental         Town   \n",
       "\n",
       "   theme_id  \n",
       "0       414  \n",
       "1        84  "
      ]
     },
     "execution_count": 16,
     "metadata": {},
     "output_type": "execute_result"
    }
   ],
   "source": [
    "lego_merged.drop(['name_y','year_y','num_parts_y'], axis=1, inplace = True)\n",
    "lego_merged.rename(columns = {'name_x':'name', 'year_x':'year', 'num_parts_x':'num_parts'}, inplace = True)\n",
    "lego_merged.head(2)"
   ]
  },
  {
   "cell_type": "markdown",
   "id": "e822fd1d",
   "metadata": {},
   "source": [
    "**Drop NaN values (for column set_num)**"
   ]
  },
  {
   "cell_type": "code",
   "execution_count": 17,
   "id": "f5ada46f",
   "metadata": {},
   "outputs": [
    {
     "data": {
      "text/html": [
       "<div>\n",
       "<style scoped>\n",
       "    .dataframe tbody tr th:only-of-type {\n",
       "        vertical-align: middle;\n",
       "    }\n",
       "\n",
       "    .dataframe tbody tr th {\n",
       "        vertical-align: top;\n",
       "    }\n",
       "\n",
       "    .dataframe thead th {\n",
       "        text-align: right;\n",
       "    }\n",
       "</style>\n",
       "<table border=\"1\" class=\"dataframe\">\n",
       "  <thead>\n",
       "    <tr style=\"text-align: right;\">\n",
       "      <th></th>\n",
       "      <th>set_num</th>\n",
       "      <th>name</th>\n",
       "      <th>year</th>\n",
       "      <th>num_parts</th>\n",
       "      <th>theme_name</th>\n",
       "      <th>parent_theme</th>\n",
       "      <th>theme_id</th>\n",
       "    </tr>\n",
       "  </thead>\n",
       "  <tbody>\n",
       "    <tr>\n",
       "      <th>0</th>\n",
       "      <td>00-1</td>\n",
       "      <td>Weetabix Castle</td>\n",
       "      <td>1970</td>\n",
       "      <td>471.0</td>\n",
       "      <td>Castle</td>\n",
       "      <td>Legoland</td>\n",
       "      <td>414</td>\n",
       "    </tr>\n",
       "    <tr>\n",
       "      <th>1</th>\n",
       "      <td>0011-2</td>\n",
       "      <td>Town Mini-Figures</td>\n",
       "      <td>1978</td>\n",
       "      <td>NaN</td>\n",
       "      <td>Supplemental</td>\n",
       "      <td>Town</td>\n",
       "      <td>84</td>\n",
       "    </tr>\n",
       "    <tr>\n",
       "      <th>2</th>\n",
       "      <td>0011-3</td>\n",
       "      <td>Castle 2 for 1 Bonus Offer</td>\n",
       "      <td>1987</td>\n",
       "      <td>NaN</td>\n",
       "      <td>Lion Knights</td>\n",
       "      <td>Castle</td>\n",
       "      <td>199</td>\n",
       "    </tr>\n",
       "    <tr>\n",
       "      <th>3</th>\n",
       "      <td>0012-1</td>\n",
       "      <td>Space Mini-Figures</td>\n",
       "      <td>1979</td>\n",
       "      <td>12.0</td>\n",
       "      <td>Supplemental</td>\n",
       "      <td>Space</td>\n",
       "      <td>143</td>\n",
       "    </tr>\n",
       "    <tr>\n",
       "      <th>4</th>\n",
       "      <td>0013-1</td>\n",
       "      <td>Space Mini-Figures</td>\n",
       "      <td>1979</td>\n",
       "      <td>12.0</td>\n",
       "      <td>Supplemental</td>\n",
       "      <td>Space</td>\n",
       "      <td>143</td>\n",
       "    </tr>\n",
       "    <tr>\n",
       "      <th>...</th>\n",
       "      <td>...</td>\n",
       "      <td>...</td>\n",
       "      <td>...</td>\n",
       "      <td>...</td>\n",
       "      <td>...</td>\n",
       "      <td>...</td>\n",
       "      <td>...</td>\n",
       "    </tr>\n",
       "    <tr>\n",
       "      <th>11828</th>\n",
       "      <td>Wauwatosa-1</td>\n",
       "      <td>LEGO Store Grand Opening Exclusive Set, Mayfai...</td>\n",
       "      <td>2012</td>\n",
       "      <td>15.0</td>\n",
       "      <td>LEGO Brand Store</td>\n",
       "      <td>LEGO Brand Store</td>\n",
       "      <td>408</td>\n",
       "    </tr>\n",
       "    <tr>\n",
       "      <th>11829</th>\n",
       "      <td>WHITEHOUSE-1</td>\n",
       "      <td>Micro White House</td>\n",
       "      <td>2015</td>\n",
       "      <td>NaN</td>\n",
       "      <td>Promotional</td>\n",
       "      <td>Promotional</td>\n",
       "      <td>598</td>\n",
       "    </tr>\n",
       "    <tr>\n",
       "      <th>11830</th>\n",
       "      <td>Wiesbaden-1</td>\n",
       "      <td>LEGO Store Grand Opening Exclusive Set, Wiesba...</td>\n",
       "      <td>2010</td>\n",
       "      <td>146.0</td>\n",
       "      <td>LEGO Brand Store</td>\n",
       "      <td>LEGO Brand Store</td>\n",
       "      <td>408</td>\n",
       "    </tr>\n",
       "    <tr>\n",
       "      <th>11831</th>\n",
       "      <td>WishingWell-1</td>\n",
       "      <td>Wishing Well [Toys R Us Promo]</td>\n",
       "      <td>2013</td>\n",
       "      <td>NaN</td>\n",
       "      <td>Friends</td>\n",
       "      <td>Friends</td>\n",
       "      <td>494</td>\n",
       "    </tr>\n",
       "    <tr>\n",
       "      <th>11832</th>\n",
       "      <td>wwgp1-1</td>\n",
       "      <td>Wild West Limited Edition Gift Pack</td>\n",
       "      <td>1996</td>\n",
       "      <td>NaN</td>\n",
       "      <td>Cowboys</td>\n",
       "      <td>Western</td>\n",
       "      <td>476</td>\n",
       "    </tr>\n",
       "  </tbody>\n",
       "</table>\n",
       "<p>11833 rows × 7 columns</p>\n",
       "</div>"
      ],
      "text/plain": [
       "             set_num                                               name  year  \\\n",
       "0               00-1                                    Weetabix Castle  1970   \n",
       "1             0011-2                                  Town Mini-Figures  1978   \n",
       "2             0011-3                         Castle 2 for 1 Bonus Offer  1987   \n",
       "3             0012-1                                 Space Mini-Figures  1979   \n",
       "4             0013-1                                 Space Mini-Figures  1979   \n",
       "...              ...                                                ...   ...   \n",
       "11828    Wauwatosa-1  LEGO Store Grand Opening Exclusive Set, Mayfai...  2012   \n",
       "11829   WHITEHOUSE-1                                  Micro White House  2015   \n",
       "11830    Wiesbaden-1  LEGO Store Grand Opening Exclusive Set, Wiesba...  2010   \n",
       "11831  WishingWell-1                     Wishing Well [Toys R Us Promo]  2013   \n",
       "11832        wwgp1-1                Wild West Limited Edition Gift Pack  1996   \n",
       "\n",
       "       num_parts        theme_name      parent_theme  theme_id  \n",
       "0          471.0            Castle          Legoland       414  \n",
       "1            NaN      Supplemental              Town        84  \n",
       "2            NaN      Lion Knights            Castle       199  \n",
       "3           12.0      Supplemental             Space       143  \n",
       "4           12.0      Supplemental             Space       143  \n",
       "...          ...               ...               ...       ...  \n",
       "11828       15.0  LEGO Brand Store  LEGO Brand Store       408  \n",
       "11829        NaN       Promotional       Promotional       598  \n",
       "11830      146.0  LEGO Brand Store  LEGO Brand Store       408  \n",
       "11831        NaN           Friends           Friends       494  \n",
       "11832        NaN           Cowboys           Western       476  \n",
       "\n",
       "[11833 rows x 7 columns]"
      ]
     },
     "execution_count": 17,
     "metadata": {},
     "output_type": "execute_result"
    }
   ],
   "source": [
    "lego_merged.dropna(subset = ['set_num'])"
   ]
  },
  {
   "cell_type": "markdown",
   "id": "a3051469",
   "metadata": {},
   "source": [
    "**Create a data set that only contains licensed parent themes**"
   ]
  },
  {
   "cell_type": "code",
   "execution_count": 19,
   "id": "3627ae6e",
   "metadata": {},
   "outputs": [],
   "source": [
    "lego_licensed = lego_merged.loc[lego_merged['parent_theme'].isin(licensed_list)]"
   ]
  },
  {
   "cell_type": "markdown",
   "id": "3eb4d368",
   "metadata": {},
   "source": [
    "**What percentage of licensed sets ever released were Star Wars themed? (As an integer value)**"
   ]
  },
  {
   "cell_type": "code",
   "execution_count": 21,
   "id": "e5779740",
   "metadata": {},
   "outputs": [
    {
     "name": "stdout",
     "output_type": "stream",
     "text": [
      "The percentage of licensed sets that are Star Wars themed are 51 percent.\n"
     ]
    }
   ],
   "source": [
    "percent = int(lego_licensed[lego_licensed['parent_theme'] == 'Star Wars'].shape[0]/lego_licensed.shape[0]*100)\n",
    "print(f\"The percentage of licensed sets that are Star Wars themed are {percent} percent.\")"
   ]
  },
  {
   "cell_type": "markdown",
   "id": "87e867b3",
   "metadata": {},
   "source": [
    "**In which year was Star Wars not the most popular licensed theme? (in terms of number of sets released that year)**"
   ]
  },
  {
   "cell_type": "code",
   "execution_count": 23,
   "id": "a2fddb9e",
   "metadata": {},
   "outputs": [
    {
     "data": {
      "text/html": [
       "<div>\n",
       "<style scoped>\n",
       "    .dataframe tbody tr th:only-of-type {\n",
       "        vertical-align: middle;\n",
       "    }\n",
       "\n",
       "    .dataframe tbody tr th {\n",
       "        vertical-align: top;\n",
       "    }\n",
       "\n",
       "    .dataframe thead th {\n",
       "        text-align: right;\n",
       "    }\n",
       "</style>\n",
       "<table border=\"1\" class=\"dataframe\">\n",
       "  <thead>\n",
       "    <tr style=\"text-align: right;\">\n",
       "      <th></th>\n",
       "      <th>year</th>\n",
       "      <th>parent_theme</th>\n",
       "      <th>total_sets</th>\n",
       "    </tr>\n",
       "  </thead>\n",
       "  <tbody>\n",
       "    <tr>\n",
       "      <th>0</th>\n",
       "      <td>1999</td>\n",
       "      <td>Star Wars</td>\n",
       "      <td>13</td>\n",
       "    </tr>\n",
       "    <tr>\n",
       "      <th>1</th>\n",
       "      <td>2000</td>\n",
       "      <td>Disney's Mickey Mouse</td>\n",
       "      <td>5</td>\n",
       "    </tr>\n",
       "    <tr>\n",
       "      <th>2</th>\n",
       "      <td>2000</td>\n",
       "      <td>Star Wars</td>\n",
       "      <td>26</td>\n",
       "    </tr>\n",
       "    <tr>\n",
       "      <th>3</th>\n",
       "      <td>2001</td>\n",
       "      <td>Harry Potter</td>\n",
       "      <td>11</td>\n",
       "    </tr>\n",
       "    <tr>\n",
       "      <th>4</th>\n",
       "      <td>2001</td>\n",
       "      <td>Star Wars</td>\n",
       "      <td>14</td>\n",
       "    </tr>\n",
       "  </tbody>\n",
       "</table>\n",
       "</div>"
      ],
      "text/plain": [
       "   year           parent_theme  total_sets\n",
       "0  1999              Star Wars          13\n",
       "1  2000  Disney's Mickey Mouse           5\n",
       "2  2000              Star Wars          26\n",
       "3  2001           Harry Potter          11\n",
       "4  2001              Star Wars          14"
      ]
     },
     "execution_count": 23,
     "metadata": {},
     "output_type": "execute_result"
    }
   ],
   "source": [
    "grouped = lego_licensed.groupby(['year','parent_theme']).size().reset_index(name = 'total_sets')\n",
    "grouped.head()"
   ]
  },
  {
   "cell_type": "markdown",
   "id": "25cbbb5b",
   "metadata": {},
   "source": [
    "Sort the grouped data set and drop year duplicate."
   ]
  },
  {
   "cell_type": "code",
   "execution_count": 28,
   "id": "1cba029a",
   "metadata": {},
   "outputs": [
    {
     "data": {
      "text/html": [
       "<div>\n",
       "<style scoped>\n",
       "    .dataframe tbody tr th:only-of-type {\n",
       "        vertical-align: middle;\n",
       "    }\n",
       "\n",
       "    .dataframe tbody tr th {\n",
       "        vertical-align: top;\n",
       "    }\n",
       "\n",
       "    .dataframe thead th {\n",
       "        text-align: right;\n",
       "    }\n",
       "</style>\n",
       "<table border=\"1\" class=\"dataframe\">\n",
       "  <thead>\n",
       "    <tr style=\"text-align: right;\">\n",
       "      <th></th>\n",
       "      <th>year</th>\n",
       "      <th>parent_theme</th>\n",
       "      <th>total_sets</th>\n",
       "    </tr>\n",
       "  </thead>\n",
       "  <tbody>\n",
       "    <tr>\n",
       "      <th>82</th>\n",
       "      <td>2017</td>\n",
       "      <td>Super Heroes</td>\n",
       "      <td>72</td>\n",
       "    </tr>\n",
       "    <tr>\n",
       "      <th>76</th>\n",
       "      <td>2016</td>\n",
       "      <td>Star Wars</td>\n",
       "      <td>61</td>\n",
       "    </tr>\n",
       "    <tr>\n",
       "      <th>67</th>\n",
       "      <td>2015</td>\n",
       "      <td>Star Wars</td>\n",
       "      <td>58</td>\n",
       "    </tr>\n",
       "    <tr>\n",
       "      <th>59</th>\n",
       "      <td>2014</td>\n",
       "      <td>Star Wars</td>\n",
       "      <td>45</td>\n",
       "    </tr>\n",
       "    <tr>\n",
       "      <th>47</th>\n",
       "      <td>2012</td>\n",
       "      <td>Star Wars</td>\n",
       "      <td>43</td>\n",
       "    </tr>\n",
       "    <tr>\n",
       "      <th>32</th>\n",
       "      <td>2009</td>\n",
       "      <td>Star Wars</td>\n",
       "      <td>39</td>\n",
       "    </tr>\n",
       "    <tr>\n",
       "      <th>52</th>\n",
       "      <td>2013</td>\n",
       "      <td>Star Wars</td>\n",
       "      <td>35</td>\n",
       "    </tr>\n",
       "    <tr>\n",
       "      <th>9</th>\n",
       "      <td>2003</td>\n",
       "      <td>Star Wars</td>\n",
       "      <td>32</td>\n",
       "    </tr>\n",
       "    <tr>\n",
       "      <th>42</th>\n",
       "      <td>2011</td>\n",
       "      <td>Star Wars</td>\n",
       "      <td>32</td>\n",
       "    </tr>\n",
       "    <tr>\n",
       "      <th>36</th>\n",
       "      <td>2010</td>\n",
       "      <td>Star Wars</td>\n",
       "      <td>30</td>\n",
       "    </tr>\n",
       "    <tr>\n",
       "      <th>16</th>\n",
       "      <td>2005</td>\n",
       "      <td>Star Wars</td>\n",
       "      <td>28</td>\n",
       "    </tr>\n",
       "    <tr>\n",
       "      <th>6</th>\n",
       "      <td>2002</td>\n",
       "      <td>Star Wars</td>\n",
       "      <td>28</td>\n",
       "    </tr>\n",
       "    <tr>\n",
       "      <th>2</th>\n",
       "      <td>2000</td>\n",
       "      <td>Star Wars</td>\n",
       "      <td>26</td>\n",
       "    </tr>\n",
       "    <tr>\n",
       "      <th>28</th>\n",
       "      <td>2008</td>\n",
       "      <td>Star Wars</td>\n",
       "      <td>23</td>\n",
       "    </tr>\n",
       "    <tr>\n",
       "      <th>12</th>\n",
       "      <td>2004</td>\n",
       "      <td>Star Wars</td>\n",
       "      <td>20</td>\n",
       "    </tr>\n",
       "    <tr>\n",
       "      <th>24</th>\n",
       "      <td>2007</td>\n",
       "      <td>Star Wars</td>\n",
       "      <td>16</td>\n",
       "    </tr>\n",
       "    <tr>\n",
       "      <th>4</th>\n",
       "      <td>2001</td>\n",
       "      <td>Star Wars</td>\n",
       "      <td>14</td>\n",
       "    </tr>\n",
       "    <tr>\n",
       "      <th>0</th>\n",
       "      <td>1999</td>\n",
       "      <td>Star Wars</td>\n",
       "      <td>13</td>\n",
       "    </tr>\n",
       "    <tr>\n",
       "      <th>20</th>\n",
       "      <td>2006</td>\n",
       "      <td>Star Wars</td>\n",
       "      <td>11</td>\n",
       "    </tr>\n",
       "  </tbody>\n",
       "</table>\n",
       "</div>"
      ],
      "text/plain": [
       "    year  parent_theme  total_sets\n",
       "82  2017  Super Heroes          72\n",
       "76  2016     Star Wars          61\n",
       "67  2015     Star Wars          58\n",
       "59  2014     Star Wars          45\n",
       "47  2012     Star Wars          43\n",
       "32  2009     Star Wars          39\n",
       "52  2013     Star Wars          35\n",
       "9   2003     Star Wars          32\n",
       "42  2011     Star Wars          32\n",
       "36  2010     Star Wars          30\n",
       "16  2005     Star Wars          28\n",
       "6   2002     Star Wars          28\n",
       "2   2000     Star Wars          26\n",
       "28  2008     Star Wars          23\n",
       "12  2004     Star Wars          20\n",
       "24  2007     Star Wars          16\n",
       "4   2001     Star Wars          14\n",
       "0   1999     Star Wars          13\n",
       "20  2006     Star Wars          11"
      ]
     },
     "execution_count": 28,
     "metadata": {},
     "output_type": "execute_result"
    }
   ],
   "source": [
    "max_sets = grouped.sort_values('total_sets', ascending = False).drop_duplicates('year')\n",
    "max_sets"
   ]
  },
  {
   "cell_type": "markdown",
   "id": "28dd0700",
   "metadata": {},
   "source": [
    "Keep only values for which parent_theme is not Star Wars."
   ]
  },
  {
   "cell_type": "code",
   "execution_count": 40,
   "id": "4b739b66",
   "metadata": {},
   "outputs": [
    {
     "name": "stdout",
     "output_type": "stream",
     "text": [
      "Star Wars was not the most popular licensed theme (in terms of number of sets released that year) in year 2017. Instead, it was Super Heroes.\n"
     ]
    }
   ],
   "source": [
    "not_sw = max_sets[max_sets['parent_theme'] != 'Star Wars']\n",
    "\n",
    "for index, row in not_sw.iterrows():\n",
    "    year = row['year']\n",
    "    theme = row['parent_theme']\n",
    "    print(f\"Star Wars was not the most popular licensed theme (in terms of number of sets released that year) in year {year}. Instead, it was {theme}.\")"
   ]
  },
  {
   "cell_type": "code",
   "execution_count": null,
   "id": "4d6005c2",
   "metadata": {},
   "outputs": [],
   "source": []
  }
 ],
 "metadata": {
  "kernelspec": {
   "display_name": "Python 3 (ipykernel)",
   "language": "python",
   "name": "python3"
  },
  "language_info": {
   "codemirror_mode": {
    "name": "ipython",
    "version": 3
   },
   "file_extension": ".py",
   "mimetype": "text/x-python",
   "name": "python",
   "nbconvert_exporter": "python",
   "pygments_lexer": "ipython3",
   "version": "3.9.13"
  }
 },
 "nbformat": 4,
 "nbformat_minor": 5
}
